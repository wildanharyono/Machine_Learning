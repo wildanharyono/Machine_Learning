{
 "cells": [
  {
   "cell_type": "markdown",
   "metadata": {},
   "source": [
    "## Coal Production Estimation"
   ]
  },
  {
   "cell_type": "markdown",
   "metadata": {},
   "source": [
    "## Importing liblary"
   ]
  },
  {
   "cell_type": "code",
   "execution_count": 1,
   "metadata": {},
   "outputs": [],
   "source": [
    "import numpy as np\n",
    "import matplotlib.pyplot as plt\n",
    "import pandas as pd\n",
    "import plotly as py"
   ]
  },
  {
   "cell_type": "code",
   "execution_count": 2,
   "metadata": {},
   "outputs": [],
   "source": [
    "file = 'coalpublic.xls'"
   ]
  },
  {
   "cell_type": "code",
   "execution_count": 3,
   "metadata": {},
   "outputs": [
    {
     "data": {
      "text/html": [
       "<div>\n",
       "<style scoped>\n",
       "    .dataframe tbody tr th:only-of-type {\n",
       "        vertical-align: middle;\n",
       "    }\n",
       "\n",
       "    .dataframe tbody tr th {\n",
       "        vertical-align: top;\n",
       "    }\n",
       "\n",
       "    .dataframe thead th {\n",
       "        text-align: right;\n",
       "    }\n",
       "</style>\n",
       "<table border=\"1\" class=\"dataframe\">\n",
       "  <thead>\n",
       "    <tr style=\"text-align: right;\">\n",
       "      <th></th>\n",
       "      <th>Mine Name</th>\n",
       "      <th>Mine State</th>\n",
       "      <th>Mine County</th>\n",
       "      <th>Mine Status</th>\n",
       "      <th>Mine Type</th>\n",
       "      <th>Company Type</th>\n",
       "      <th>Operation Type</th>\n",
       "      <th>Operating Company</th>\n",
       "      <th>Operating Company Address</th>\n",
       "      <th>Union Code</th>\n",
       "      <th>Coal Supply Region</th>\n",
       "      <th>Production (short tons)</th>\n",
       "      <th>Average Employees</th>\n",
       "      <th>Labor Hours</th>\n",
       "    </tr>\n",
       "    <tr>\n",
       "      <th>MSHA ID</th>\n",
       "      <th></th>\n",
       "      <th></th>\n",
       "      <th></th>\n",
       "      <th></th>\n",
       "      <th></th>\n",
       "      <th></th>\n",
       "      <th></th>\n",
       "      <th></th>\n",
       "      <th></th>\n",
       "      <th></th>\n",
       "      <th></th>\n",
       "      <th></th>\n",
       "      <th></th>\n",
       "      <th></th>\n",
       "    </tr>\n",
       "  </thead>\n",
       "  <tbody>\n",
       "    <tr>\n",
       "      <th>103381</th>\n",
       "      <td>Jesse Creek H.W.M.</td>\n",
       "      <td>Alabama</td>\n",
       "      <td>Bibb</td>\n",
       "      <td>Active</td>\n",
       "      <td>Surface</td>\n",
       "      <td>Indepedent Producer Operator</td>\n",
       "      <td>Mine only</td>\n",
       "      <td>Jesse Creek Mining,llc</td>\n",
       "      <td>1615 Kent Dairy Rd, Alabaster, AL 35007</td>\n",
       "      <td>NaN</td>\n",
       "      <td>Appalachia Southern</td>\n",
       "      <td>62598</td>\n",
       "      <td>6</td>\n",
       "      <td>13713</td>\n",
       "    </tr>\n",
       "    <tr>\n",
       "      <th>103246</th>\n",
       "      <td>Bear Creek</td>\n",
       "      <td>Alabama</td>\n",
       "      <td>Franklin</td>\n",
       "      <td>Temporarily closed</td>\n",
       "      <td>Surface</td>\n",
       "      <td>Indepedent Producer Operator</td>\n",
       "      <td>Mine only</td>\n",
       "      <td>Birmingham Coal &amp; Coke Co., In</td>\n",
       "      <td>912 Edenton Street, Birmingham, AL 35242</td>\n",
       "      <td>NaN</td>\n",
       "      <td>Appalachia Southern</td>\n",
       "      <td>25481</td>\n",
       "      <td>9</td>\n",
       "      <td>17641</td>\n",
       "    </tr>\n",
       "    <tr>\n",
       "      <th>103451</th>\n",
       "      <td>Knight Mine</td>\n",
       "      <td>Alabama</td>\n",
       "      <td>Franklin</td>\n",
       "      <td>Temporarily closed</td>\n",
       "      <td>Surface</td>\n",
       "      <td>Indepedent Producer Operator</td>\n",
       "      <td>Mine only</td>\n",
       "      <td>Birmingham Coal &amp; Coke Co., In</td>\n",
       "      <td>P.O. Box 354, Lynn, AL 35242</td>\n",
       "      <td>NaN</td>\n",
       "      <td>Appalachia Southern</td>\n",
       "      <td>121474</td>\n",
       "      <td>21</td>\n",
       "      <td>51729</td>\n",
       "    </tr>\n",
       "    <tr>\n",
       "      <th>102933</th>\n",
       "      <td>Mine No 2</td>\n",
       "      <td>Alabama</td>\n",
       "      <td>Jackson</td>\n",
       "      <td>Temporarily closed</td>\n",
       "      <td>Surface</td>\n",
       "      <td>Indepedent Producer Operator</td>\n",
       "      <td>Mine only</td>\n",
       "      <td>Alabama Carbon, Llc</td>\n",
       "      <td>5957 Windswept Blvd, Wise, VA 24293</td>\n",
       "      <td>NaN</td>\n",
       "      <td>Appalachia Southern</td>\n",
       "      <td>3939</td>\n",
       "      <td>5</td>\n",
       "      <td>5287</td>\n",
       "    </tr>\n",
       "    <tr>\n",
       "      <th>100329</th>\n",
       "      <td>Concord Mine</td>\n",
       "      <td>Alabama</td>\n",
       "      <td>Jefferson</td>\n",
       "      <td>Active</td>\n",
       "      <td>Underground</td>\n",
       "      <td>Operating Subsidiary</td>\n",
       "      <td>Preparation Plant</td>\n",
       "      <td>Oak Grove Resources Llc</td>\n",
       "      <td>8360 Taylors Ferry Rd, Hueytown, AL 35023</td>\n",
       "      <td>United Mine Workers Of America</td>\n",
       "      <td>Appalachia Southern</td>\n",
       "      <td>0</td>\n",
       "      <td>52</td>\n",
       "      <td>119679</td>\n",
       "    </tr>\n",
       "  </tbody>\n",
       "</table>\n",
       "</div>"
      ],
      "text/plain": [
       "                  Mine Name Mine State Mine County         Mine Status  \\\n",
       "MSHA ID                                                                  \n",
       "103381   Jesse Creek H.W.M.    Alabama        Bibb              Active   \n",
       "103246           Bear Creek    Alabama    Franklin  Temporarily closed   \n",
       "103451          Knight Mine    Alabama    Franklin  Temporarily closed   \n",
       "102933            Mine No 2    Alabama     Jackson  Temporarily closed   \n",
       "100329         Concord Mine    Alabama   Jefferson              Active   \n",
       "\n",
       "           Mine Type                  Company Type     Operation Type  \\\n",
       "MSHA ID                                                                 \n",
       "103381       Surface  Indepedent Producer Operator          Mine only   \n",
       "103246       Surface  Indepedent Producer Operator          Mine only   \n",
       "103451       Surface  Indepedent Producer Operator          Mine only   \n",
       "102933       Surface  Indepedent Producer Operator          Mine only   \n",
       "100329   Underground          Operating Subsidiary  Preparation Plant   \n",
       "\n",
       "                      Operating Company  \\\n",
       "MSHA ID                                   \n",
       "103381           Jesse Creek Mining,llc   \n",
       "103246   Birmingham Coal & Coke Co., In   \n",
       "103451   Birmingham Coal & Coke Co., In   \n",
       "102933              Alabama Carbon, Llc   \n",
       "100329          Oak Grove Resources Llc   \n",
       "\n",
       "                         Operating Company Address  \\\n",
       "MSHA ID                                              \n",
       "103381     1615 Kent Dairy Rd, Alabaster, AL 35007   \n",
       "103246    912 Edenton Street, Birmingham, AL 35242   \n",
       "103451                P.O. Box 354, Lynn, AL 35242   \n",
       "102933         5957 Windswept Blvd, Wise, VA 24293   \n",
       "100329   8360 Taylors Ferry Rd, Hueytown, AL 35023   \n",
       "\n",
       "                             Union Code   Coal Supply Region  \\\n",
       "MSHA ID                                                        \n",
       "103381                              NaN  Appalachia Southern   \n",
       "103246                              NaN  Appalachia Southern   \n",
       "103451                              NaN  Appalachia Southern   \n",
       "102933                              NaN  Appalachia Southern   \n",
       "100329   United Mine Workers Of America  Appalachia Southern   \n",
       "\n",
       "         Production (short tons)  Average Employees  Labor Hours  \n",
       "MSHA ID                                                           \n",
       "103381                     62598                  6        13713  \n",
       "103246                     25481                  9        17641  \n",
       "103451                    121474                 21        51729  \n",
       "102933                      3939                  5         5287  \n",
       "100329                         0                 52       119679  "
      ]
     },
     "execution_count": 3,
     "metadata": {},
     "output_type": "execute_result"
    }
   ],
   "source": [
    "data = pd.read_excel(file,header=3, index_col='MSHA ID')\n",
    "data.head()"
   ]
  },
  {
   "cell_type": "markdown",
   "metadata": {},
   "source": [
    "## Visualization and Exploratory data analysis"
   ]
  },
  {
   "cell_type": "code",
   "execution_count": 4,
   "metadata": {},
   "outputs": [
    {
     "data": {
      "text/html": [
       "<div>\n",
       "<style scoped>\n",
       "    .dataframe tbody tr th:only-of-type {\n",
       "        vertical-align: middle;\n",
       "    }\n",
       "\n",
       "    .dataframe tbody tr th {\n",
       "        vertical-align: top;\n",
       "    }\n",
       "\n",
       "    .dataframe thead th {\n",
       "        text-align: right;\n",
       "    }\n",
       "</style>\n",
       "<table border=\"1\" class=\"dataframe\">\n",
       "  <thead>\n",
       "    <tr style=\"text-align: right;\">\n",
       "      <th></th>\n",
       "      <th>Mine_Name</th>\n",
       "      <th>Mine_State</th>\n",
       "      <th>Mine_County</th>\n",
       "      <th>Mine_Status</th>\n",
       "      <th>Mine_Type</th>\n",
       "      <th>Company_Type</th>\n",
       "      <th>Operation_Type</th>\n",
       "      <th>Operating_Company</th>\n",
       "      <th>Operating_Company_Address</th>\n",
       "      <th>Union_Code</th>\n",
       "      <th>Coal_Supply_Region</th>\n",
       "      <th>Production</th>\n",
       "      <th>Average_Employees</th>\n",
       "      <th>Labor_Hours</th>\n",
       "    </tr>\n",
       "    <tr>\n",
       "      <th>MSHA ID</th>\n",
       "      <th></th>\n",
       "      <th></th>\n",
       "      <th></th>\n",
       "      <th></th>\n",
       "      <th></th>\n",
       "      <th></th>\n",
       "      <th></th>\n",
       "      <th></th>\n",
       "      <th></th>\n",
       "      <th></th>\n",
       "      <th></th>\n",
       "      <th></th>\n",
       "      <th></th>\n",
       "      <th></th>\n",
       "    </tr>\n",
       "  </thead>\n",
       "  <tbody>\n",
       "    <tr>\n",
       "      <th>103381</th>\n",
       "      <td>Jesse Creek H.W.M.</td>\n",
       "      <td>Alabama</td>\n",
       "      <td>Bibb</td>\n",
       "      <td>Active</td>\n",
       "      <td>Surface</td>\n",
       "      <td>Indepedent Producer Operator</td>\n",
       "      <td>Mine only</td>\n",
       "      <td>Jesse Creek Mining,llc</td>\n",
       "      <td>1615 Kent Dairy Rd, Alabaster, AL 35007</td>\n",
       "      <td>NaN</td>\n",
       "      <td>Appalachia Southern</td>\n",
       "      <td>62598</td>\n",
       "      <td>6</td>\n",
       "      <td>13713</td>\n",
       "    </tr>\n",
       "    <tr>\n",
       "      <th>103246</th>\n",
       "      <td>Bear Creek</td>\n",
       "      <td>Alabama</td>\n",
       "      <td>Franklin</td>\n",
       "      <td>Temporarily closed</td>\n",
       "      <td>Surface</td>\n",
       "      <td>Indepedent Producer Operator</td>\n",
       "      <td>Mine only</td>\n",
       "      <td>Birmingham Coal &amp; Coke Co., In</td>\n",
       "      <td>912 Edenton Street, Birmingham, AL 35242</td>\n",
       "      <td>NaN</td>\n",
       "      <td>Appalachia Southern</td>\n",
       "      <td>25481</td>\n",
       "      <td>9</td>\n",
       "      <td>17641</td>\n",
       "    </tr>\n",
       "    <tr>\n",
       "      <th>103451</th>\n",
       "      <td>Knight Mine</td>\n",
       "      <td>Alabama</td>\n",
       "      <td>Franklin</td>\n",
       "      <td>Temporarily closed</td>\n",
       "      <td>Surface</td>\n",
       "      <td>Indepedent Producer Operator</td>\n",
       "      <td>Mine only</td>\n",
       "      <td>Birmingham Coal &amp; Coke Co., In</td>\n",
       "      <td>P.O. Box 354, Lynn, AL 35242</td>\n",
       "      <td>NaN</td>\n",
       "      <td>Appalachia Southern</td>\n",
       "      <td>121474</td>\n",
       "      <td>21</td>\n",
       "      <td>51729</td>\n",
       "    </tr>\n",
       "    <tr>\n",
       "      <th>102933</th>\n",
       "      <td>Mine No 2</td>\n",
       "      <td>Alabama</td>\n",
       "      <td>Jackson</td>\n",
       "      <td>Temporarily closed</td>\n",
       "      <td>Surface</td>\n",
       "      <td>Indepedent Producer Operator</td>\n",
       "      <td>Mine only</td>\n",
       "      <td>Alabama Carbon, Llc</td>\n",
       "      <td>5957 Windswept Blvd, Wise, VA 24293</td>\n",
       "      <td>NaN</td>\n",
       "      <td>Appalachia Southern</td>\n",
       "      <td>3939</td>\n",
       "      <td>5</td>\n",
       "      <td>5287</td>\n",
       "    </tr>\n",
       "    <tr>\n",
       "      <th>100329</th>\n",
       "      <td>Concord Mine</td>\n",
       "      <td>Alabama</td>\n",
       "      <td>Jefferson</td>\n",
       "      <td>Active</td>\n",
       "      <td>Underground</td>\n",
       "      <td>Operating Subsidiary</td>\n",
       "      <td>Preparation Plant</td>\n",
       "      <td>Oak Grove Resources Llc</td>\n",
       "      <td>8360 Taylors Ferry Rd, Hueytown, AL 35023</td>\n",
       "      <td>United Mine Workers Of America</td>\n",
       "      <td>Appalachia Southern</td>\n",
       "      <td>0</td>\n",
       "      <td>52</td>\n",
       "      <td>119679</td>\n",
       "    </tr>\n",
       "  </tbody>\n",
       "</table>\n",
       "</div>"
      ],
      "text/plain": [
       "                  Mine_Name Mine_State Mine_County         Mine_Status  \\\n",
       "MSHA ID                                                                  \n",
       "103381   Jesse Creek H.W.M.    Alabama        Bibb              Active   \n",
       "103246           Bear Creek    Alabama    Franklin  Temporarily closed   \n",
       "103451          Knight Mine    Alabama    Franklin  Temporarily closed   \n",
       "102933            Mine No 2    Alabama     Jackson  Temporarily closed   \n",
       "100329         Concord Mine    Alabama   Jefferson              Active   \n",
       "\n",
       "           Mine_Type                  Company_Type     Operation_Type  \\\n",
       "MSHA ID                                                                 \n",
       "103381       Surface  Indepedent Producer Operator          Mine only   \n",
       "103246       Surface  Indepedent Producer Operator          Mine only   \n",
       "103451       Surface  Indepedent Producer Operator          Mine only   \n",
       "102933       Surface  Indepedent Producer Operator          Mine only   \n",
       "100329   Underground          Operating Subsidiary  Preparation Plant   \n",
       "\n",
       "                      Operating_Company  \\\n",
       "MSHA ID                                   \n",
       "103381           Jesse Creek Mining,llc   \n",
       "103246   Birmingham Coal & Coke Co., In   \n",
       "103451   Birmingham Coal & Coke Co., In   \n",
       "102933              Alabama Carbon, Llc   \n",
       "100329          Oak Grove Resources Llc   \n",
       "\n",
       "                         Operating_Company_Address  \\\n",
       "MSHA ID                                              \n",
       "103381     1615 Kent Dairy Rd, Alabaster, AL 35007   \n",
       "103246    912 Edenton Street, Birmingham, AL 35242   \n",
       "103451                P.O. Box 354, Lynn, AL 35242   \n",
       "102933         5957 Windswept Blvd, Wise, VA 24293   \n",
       "100329   8360 Taylors Ferry Rd, Hueytown, AL 35023   \n",
       "\n",
       "                             Union_Code   Coal_Supply_Region  Production  \\\n",
       "MSHA ID                                                                    \n",
       "103381                              NaN  Appalachia Southern       62598   \n",
       "103246                              NaN  Appalachia Southern       25481   \n",
       "103451                              NaN  Appalachia Southern      121474   \n",
       "102933                              NaN  Appalachia Southern        3939   \n",
       "100329   United Mine Workers Of America  Appalachia Southern           0   \n",
       "\n",
       "         Average_Employees  Labor_Hours  \n",
       "MSHA ID                                  \n",
       "103381                   6        13713  \n",
       "103246                   9        17641  \n",
       "103451                  21        51729  \n",
       "102933                   5         5287  \n",
       "100329                  52       119679  "
      ]
     },
     "execution_count": 4,
     "metadata": {},
     "output_type": "execute_result"
    }
   ],
   "source": [
    "data.rename(columns=lambda x: x.replace(\"Production (short tons)\", \"Production\"), inplace=True) \n",
    "#rename columns to include underscore the remove the spaces between the words ind_Producer_operator\n",
    "data.rename(columns=lambda x: x.replace(\" \", \"_\"), inplace=True) \n",
    "data.head()"
   ]
  },
  {
   "cell_type": "code",
   "execution_count": 5,
   "metadata": {},
   "outputs": [
    {
     "name": "stdout",
     "output_type": "stream",
     "text": [
      "<class 'pandas.core.frame.DataFrame'>\n",
      "Int64Index: 1171 entries, 103381 to 1518524\n",
      "Data columns (total 14 columns):\n",
      " #   Column                     Non-Null Count  Dtype \n",
      "---  ------                     --------------  ----- \n",
      " 0   Mine_Name                  1171 non-null   object\n",
      " 1   Mine_State                 1171 non-null   object\n",
      " 2   Mine_County                1171 non-null   object\n",
      " 3   Mine_Status                1171 non-null   object\n",
      " 4   Mine_Type                  1171 non-null   object\n",
      " 5   Company_Type               1171 non-null   object\n",
      " 6   Operation_Type             1171 non-null   object\n",
      " 7   Operating_Company          1171 non-null   object\n",
      " 8   Operating_Company_Address  1171 non-null   object\n",
      " 9   Union_Code                 85 non-null     object\n",
      " 10  Coal_Supply_Region         1170 non-null   object\n",
      " 11  Production                 1171 non-null   int64 \n",
      " 12  Average_Employees          1171 non-null   int64 \n",
      " 13  Labor_Hours                1171 non-null   int64 \n",
      "dtypes: int64(3), object(11)\n",
      "memory usage: 137.2+ KB\n"
     ]
    }
   ],
   "source": [
    "data.info()"
   ]
  },
  {
   "cell_type": "code",
   "execution_count": 6,
   "metadata": {},
   "outputs": [
    {
     "data": {
      "text/plain": [
       "Mine_Name                       0\n",
       "Mine_State                      0\n",
       "Mine_County                     0\n",
       "Mine_Status                     0\n",
       "Mine_Type                       0\n",
       "Company_Type                    0\n",
       "Operation_Type                  0\n",
       "Operating_Company               0\n",
       "Operating_Company_Address       0\n",
       "Union_Code                   1086\n",
       "Coal_Supply_Region              1\n",
       "Production                      0\n",
       "Average_Employees               0\n",
       "Labor_Hours                     0\n",
       "dtype: int64"
      ]
     },
     "execution_count": 6,
     "metadata": {},
     "output_type": "execute_result"
    }
   ],
   "source": [
    "data.isnull().sum()"
   ]
  },
  {
   "cell_type": "code",
   "execution_count": 7,
   "metadata": {},
   "outputs": [
    {
     "data": {
      "text/plain": [
       "Text(0, 0.5, 'Total  Hours worked')"
      ]
     },
     "execution_count": 7,
     "metadata": {},
     "output_type": "execute_result"
    },
    {
     "data": {
      "image/png": "[encoded data removed]",
      "text/plain": [
       "<Figure size 432x288 with 1 Axes>"
      ]
     },
     "metadata": {
      "needs_background": "light"
     },
     "output_type": "display_data"
    }
   ],
   "source": [
    "plt.scatter(data.Average_Employees, data.Labor_Hours)\n",
    "plt.style.use('ggplot')\n",
    "plt.xlabel(' Total Number of Employees')\n",
    "plt.ylabel('Total  Hours worked')"
   ]
  },
  {
   "cell_type": "code",
   "execution_count": 8,
   "metadata": {},
   "outputs": [
    {
     "data": {
      "text/plain": [
       "<matplotlib.axes._subplots.AxesSubplot at 0x1ccbdc849d0>"
      ]
     },
     "execution_count": 8,
     "metadata": {},
     "output_type": "execute_result"
    },
    {
     "data": {
      "image/png": "[encoded data removed]",
      "text/plain": [
       "<Figure size 432x288 with 1 Axes>"
      ]
     },
     "metadata": {},
     "output_type": "display_data"
    }
   ],
   "source": [
    "#using seaborn regression plot\n",
    "import seaborn as sns\n",
    "sns.set(color_codes=True)\n",
    "sns.regplot(data.Average_Employees, data.Labor_Hours, ci=95)"
   ]
  },
  {
   "cell_type": "code",
   "execution_count": 9,
   "metadata": {},
   "outputs": [
    {
     "data": {
      "text/plain": [
       "Text(0, 0.5, 'Production')"
      ]
     },
     "execution_count": 9,
     "metadata": {},
     "output_type": "execute_result"
    },
    {
     "data": {
      "image/png": "[encoded data removed]",
      "text/plain": [
       "<Figure size 432x288 with 1 Axes>"
      ]
     },
     "metadata": {},
     "output_type": "display_data"
    }
   ],
   "source": [
    "plt.scatter(data.Labor_Hours, data.Production)\n",
    "plt.style.use('ggplot')\n",
    "plt.xlabel(' Labor Hours')\n",
    "plt.ylabel('Production')"
   ]
  },
  {
   "cell_type": "code",
   "execution_count": 10,
   "metadata": {},
   "outputs": [
    {
     "data": {
      "image/png": "[encoded data removed]",
      "text/plain": [
       "<Figure size 1800x1800 with 4 Axes>"
      ]
     },
     "metadata": {},
     "output_type": "display_data"
    }
   ],
   "source": [
    "data.hist(figsize=(25,25),bins=10)\n",
    "plt.style.use('ggplot')\n",
    "plt.show()"
   ]
  },
  {
   "cell_type": "code",
   "execution_count": 11,
   "metadata": {},
   "outputs": [
    {
     "data": {
      "text/plain": [
       "(1171, 14)"
      ]
     },
     "execution_count": 11,
     "metadata": {},
     "output_type": "execute_result"
    }
   ],
   "source": [
    "data.shape"
   ]
  },
  {
   "cell_type": "code",
   "execution_count": 12,
   "metadata": {},
   "outputs": [
    {
     "data": {
      "text/plain": [
       "array(['Active', 'Temporarily closed', 'Permanently abandoned',\n",
       "       'Active, men working, not producing'], dtype=object)"
      ]
     },
     "execution_count": 12,
     "metadata": {},
     "output_type": "execute_result"
    }
   ],
   "source": [
    "data.Mine_Status.unique()"
   ]
  },
  {
   "cell_type": "code",
   "execution_count": 13,
   "metadata": {},
   "outputs": [
    {
     "data": {
      "text/html": [
       "<div>\n",
       "<style scoped>\n",
       "    .dataframe tbody tr th:only-of-type {\n",
       "        vertical-align: middle;\n",
       "    }\n",
       "\n",
       "    .dataframe tbody tr th {\n",
       "        vertical-align: top;\n",
       "    }\n",
       "\n",
       "    .dataframe thead th {\n",
       "        text-align: right;\n",
       "    }\n",
       "</style>\n",
       "<table border=\"1\" class=\"dataframe\">\n",
       "  <thead>\n",
       "    <tr style=\"text-align: right;\">\n",
       "      <th></th>\n",
       "      <th>Mine_Name</th>\n",
       "      <th>Mine_State</th>\n",
       "      <th>Mine_County</th>\n",
       "      <th>Mine_Status</th>\n",
       "      <th>Mine_Type</th>\n",
       "      <th>Company_Type</th>\n",
       "      <th>Operation_Type</th>\n",
       "      <th>Operating_Company</th>\n",
       "      <th>Operating_Company_Address</th>\n",
       "      <th>Union_Code</th>\n",
       "      <th>Coal_Supply_Region</th>\n",
       "      <th>Production</th>\n",
       "      <th>Average_Employees</th>\n",
       "      <th>Labor_Hours</th>\n",
       "    </tr>\n",
       "    <tr>\n",
       "      <th>MSHA ID</th>\n",
       "      <th></th>\n",
       "      <th></th>\n",
       "      <th></th>\n",
       "      <th></th>\n",
       "      <th></th>\n",
       "      <th></th>\n",
       "      <th></th>\n",
       "      <th></th>\n",
       "      <th></th>\n",
       "      <th></th>\n",
       "      <th></th>\n",
       "      <th></th>\n",
       "      <th></th>\n",
       "      <th></th>\n",
       "    </tr>\n",
       "  </thead>\n",
       "  <tbody>\n",
       "    <tr>\n",
       "      <th>103381</th>\n",
       "      <td>Jesse Creek H.W.M.</td>\n",
       "      <td>Alabama</td>\n",
       "      <td>Bibb</td>\n",
       "      <td>Active</td>\n",
       "      <td>Surface</td>\n",
       "      <td>Indepedent Producer Operator</td>\n",
       "      <td>Mine only</td>\n",
       "      <td>Jesse Creek Mining,llc</td>\n",
       "      <td>1615 Kent Dairy Rd, Alabaster, AL 35007</td>\n",
       "      <td>NaN</td>\n",
       "      <td>Appalachia Southern</td>\n",
       "      <td>62598</td>\n",
       "      <td>6</td>\n",
       "      <td>13713</td>\n",
       "    </tr>\n",
       "    <tr>\n",
       "      <th>103246</th>\n",
       "      <td>Bear Creek</td>\n",
       "      <td>Alabama</td>\n",
       "      <td>Franklin</td>\n",
       "      <td>Temporarily closed</td>\n",
       "      <td>Surface</td>\n",
       "      <td>Indepedent Producer Operator</td>\n",
       "      <td>Mine only</td>\n",
       "      <td>Birmingham Coal &amp; Coke Co., In</td>\n",
       "      <td>912 Edenton Street, Birmingham, AL 35242</td>\n",
       "      <td>NaN</td>\n",
       "      <td>Appalachia Southern</td>\n",
       "      <td>25481</td>\n",
       "      <td>9</td>\n",
       "      <td>17641</td>\n",
       "    </tr>\n",
       "    <tr>\n",
       "      <th>103451</th>\n",
       "      <td>Knight Mine</td>\n",
       "      <td>Alabama</td>\n",
       "      <td>Franklin</td>\n",
       "      <td>Temporarily closed</td>\n",
       "      <td>Surface</td>\n",
       "      <td>Indepedent Producer Operator</td>\n",
       "      <td>Mine only</td>\n",
       "      <td>Birmingham Coal &amp; Coke Co., In</td>\n",
       "      <td>P.O. Box 354, Lynn, AL 35242</td>\n",
       "      <td>NaN</td>\n",
       "      <td>Appalachia Southern</td>\n",
       "      <td>121474</td>\n",
       "      <td>21</td>\n",
       "      <td>51729</td>\n",
       "    </tr>\n",
       "    <tr>\n",
       "      <th>102933</th>\n",
       "      <td>Mine No 2</td>\n",
       "      <td>Alabama</td>\n",
       "      <td>Jackson</td>\n",
       "      <td>Temporarily closed</td>\n",
       "      <td>Surface</td>\n",
       "      <td>Indepedent Producer Operator</td>\n",
       "      <td>Mine only</td>\n",
       "      <td>Alabama Carbon, Llc</td>\n",
       "      <td>5957 Windswept Blvd, Wise, VA 24293</td>\n",
       "      <td>NaN</td>\n",
       "      <td>Appalachia Southern</td>\n",
       "      <td>3939</td>\n",
       "      <td>5</td>\n",
       "      <td>5287</td>\n",
       "    </tr>\n",
       "    <tr>\n",
       "      <th>100627</th>\n",
       "      <td>Flat Top Mine</td>\n",
       "      <td>Alabama</td>\n",
       "      <td>Jefferson</td>\n",
       "      <td>Active</td>\n",
       "      <td>Surface</td>\n",
       "      <td>Indepedent Producer Operator</td>\n",
       "      <td>Mine only</td>\n",
       "      <td>Cedar Lake Mining, Inc</td>\n",
       "      <td>7802 Highway 78, Cordova, AL 35550</td>\n",
       "      <td>NaN</td>\n",
       "      <td>Appalachia Southern</td>\n",
       "      <td>256521</td>\n",
       "      <td>37</td>\n",
       "      <td>103971</td>\n",
       "    </tr>\n",
       "  </tbody>\n",
       "</table>\n",
       "</div>"
      ],
      "text/plain": [
       "                  Mine_Name Mine_State Mine_County         Mine_Status  \\\n",
       "MSHA ID                                                                  \n",
       "103381   Jesse Creek H.W.M.    Alabama        Bibb              Active   \n",
       "103246           Bear Creek    Alabama    Franklin  Temporarily closed   \n",
       "103451          Knight Mine    Alabama    Franklin  Temporarily closed   \n",
       "102933            Mine No 2    Alabama     Jackson  Temporarily closed   \n",
       "100627        Flat Top Mine    Alabama   Jefferson              Active   \n",
       "\n",
       "        Mine_Type                  Company_Type Operation_Type  \\\n",
       "MSHA ID                                                          \n",
       "103381    Surface  Indepedent Producer Operator      Mine only   \n",
       "103246    Surface  Indepedent Producer Operator      Mine only   \n",
       "103451    Surface  Indepedent Producer Operator      Mine only   \n",
       "102933    Surface  Indepedent Producer Operator      Mine only   \n",
       "100627    Surface  Indepedent Producer Operator      Mine only   \n",
       "\n",
       "                      Operating_Company  \\\n",
       "MSHA ID                                   \n",
       "103381           Jesse Creek Mining,llc   \n",
       "103246   Birmingham Coal & Coke Co., In   \n",
       "103451   Birmingham Coal & Coke Co., In   \n",
       "102933              Alabama Carbon, Llc   \n",
       "100627           Cedar Lake Mining, Inc   \n",
       "\n",
       "                        Operating_Company_Address Union_Code  \\\n",
       "MSHA ID                                                        \n",
       "103381    1615 Kent Dairy Rd, Alabaster, AL 35007        NaN   \n",
       "103246   912 Edenton Street, Birmingham, AL 35242        NaN   \n",
       "103451               P.O. Box 354, Lynn, AL 35242        NaN   \n",
       "102933        5957 Windswept Blvd, Wise, VA 24293        NaN   \n",
       "100627         7802 Highway 78, Cordova, AL 35550        NaN   \n",
       "\n",
       "          Coal_Supply_Region  Production  Average_Employees  Labor_Hours  \n",
       "MSHA ID                                                                   \n",
       "103381   Appalachia Southern       62598                  6        13713  \n",
       "103246   Appalachia Southern       25481                  9        17641  \n",
       "103451   Appalachia Southern      121474                 21        51729  \n",
       "102933   Appalachia Southern        3939                  5         5287  \n",
       "100627   Appalachia Southern      256521                 37       103971  "
      ]
     },
     "execution_count": 13,
     "metadata": {},
     "output_type": "execute_result"
    }
   ],
   "source": [
    "#since the goals of this problem is to estimate coal production so that we remove the data with production values is less than 1 or remove the data that mine do not pruduct due to saveral condtion (not producing, emporarily closed and Permanently abandoned)\n",
    "df = data[data.Production >1 ]\n",
    "df.head()"
   ]
  },
  {
   "cell_type": "code",
   "execution_count": 14,
   "metadata": {},
   "outputs": [
    {
     "data": {
      "text/plain": [
       "(853, 14)"
      ]
     },
     "execution_count": 14,
     "metadata": {},
     "output_type": "execute_result"
    }
   ],
   "source": [
    "df.shape"
   ]
  },
  {
   "cell_type": "code",
   "execution_count": 15,
   "metadata": {},
   "outputs": [
    {
     "name": "stderr",
     "output_type": "stream",
     "text": [
      "<ipython-input-15-b495f7268a5d>:4: SettingWithCopyWarning: \n",
      "A value is trying to be set on a copy of a slice from a DataFrame.\n",
      "Try using .loc[row_indexer,col_indexer] = value instead\n",
      "\n",
      "See the caveats in the documentation: https://pandas.pydata.org/pandas-docs/stable/user_guide/indexing.html#returning-a-view-versus-a-copy\n",
      "  df[\"log_production\"]= np.log(df['Production'])\n"
     ]
    }
   ],
   "source": [
    "#if we referred to data.hist that previously run indicate that data is skiewed so in order to nominalize it we have to use log transformation \n",
    "#create a new column \"log_production\" \n",
    "\n",
    "df[\"log_production\"]= np.log(df['Production'])"
   ]
  },
  {
   "cell_type": "code",
   "execution_count": 16,
   "metadata": {},
   "outputs": [
    {
     "data": {
      "text/plain": [
       "<matplotlib.axes._subplots.AxesSubplot at 0x1ccbeb5bb50>"
      ]
     },
     "execution_count": 16,
     "metadata": {},
     "output_type": "execute_result"
    },
    {
     "data": {
      "image/png": "[encoded data removed]",
      "text/plain": [
       "<Figure size 432x288 with 1 Axes>"
      ]
     },
     "metadata": {},
     "output_type": "display_data"
    }
   ],
   "source": [
    "df.log_production.hist()"
   ]
  },
  {
   "cell_type": "code",
   "execution_count": 17,
   "metadata": {},
   "outputs": [
    {
     "data": {
      "text/plain": [
       "<matplotlib.axes._subplots.AxesSubplot at 0x1ccbf3c1550>"
      ]
     },
     "execution_count": 17,
     "metadata": {},
     "output_type": "execute_result"
    },
    {
     "data": {
      "image/png": "[encoded data removed]",
      "text/plain": [
       "<Figure size 432x288 with 1 Axes>"
      ]
     },
     "metadata": {},
     "output_type": "display_data"
    }
   ],
   "source": [
    "sns.set(color_codes=True)\n",
    "sns.regplot(df.Labor_Hours, df.log_production, ci=95)\n"
   ]
  },
  {
   "cell_type": "markdown",
   "metadata": {},
   "source": [
    "## Feature Engineering"
   ]
  },
  {
   "cell_type": "code",
   "execution_count": 18,
   "metadata": {},
   "outputs": [
    {
     "data": {
      "text/plain": [
       "array(['Active', 'Temporarily closed', 'Permanently abandoned',\n",
       "       'Active, men working, not producing'], dtype=object)"
      ]
     },
     "execution_count": 18,
     "metadata": {},
     "output_type": "execute_result"
    }
   ],
   "source": [
    "df.Mine_Status.unique()"
   ]
  },
  {
   "cell_type": "code",
   "execution_count": 19,
   "metadata": {},
   "outputs": [
    {
     "data": {
      "text/html": [
       "<div>\n",
       "<style scoped>\n",
       "    .dataframe tbody tr th:only-of-type {\n",
       "        vertical-align: middle;\n",
       "    }\n",
       "\n",
       "    .dataframe tbody tr th {\n",
       "        vertical-align: top;\n",
       "    }\n",
       "\n",
       "    .dataframe thead th {\n",
       "        text-align: right;\n",
       "    }\n",
       "</style>\n",
       "<table border=\"1\" class=\"dataframe\">\n",
       "  <thead>\n",
       "    <tr style=\"text-align: right;\">\n",
       "      <th></th>\n",
       "      <th>Production</th>\n",
       "    </tr>\n",
       "    <tr>\n",
       "      <th>Mine_Status</th>\n",
       "      <th></th>\n",
       "    </tr>\n",
       "  </thead>\n",
       "  <tbody>\n",
       "    <tr>\n",
       "      <th>Active</th>\n",
       "      <td>1.588046e+06</td>\n",
       "    </tr>\n",
       "    <tr>\n",
       "      <th>Active, men working, not producing</th>\n",
       "      <td>2.834705e+05</td>\n",
       "    </tr>\n",
       "    <tr>\n",
       "      <th>Permanently abandoned</th>\n",
       "      <td>5.949539e+04</td>\n",
       "    </tr>\n",
       "    <tr>\n",
       "      <th>Temporarily closed</th>\n",
       "      <td>5.024980e+04</td>\n",
       "    </tr>\n",
       "  </tbody>\n",
       "</table>\n",
       "</div>"
      ],
      "text/plain": [
       "                                      Production\n",
       "Mine_Status                                     \n",
       "Active                              1.588046e+06\n",
       "Active, men working, not producing  2.834705e+05\n",
       "Permanently abandoned               5.949539e+04\n",
       "Temporarily closed                  5.024980e+04"
      ]
     },
     "execution_count": 19,
     "metadata": {},
     "output_type": "execute_result"
    }
   ],
   "source": [
    "df[['Mine_Status','Production']].groupby('Mine_Status').mean()"
   ]
  },
  {
   "cell_type": "code",
   "execution_count": 20,
   "metadata": {},
   "outputs": [
    {
     "data": {
      "text/html": [
       "<div>\n",
       "<style scoped>\n",
       "    .dataframe tbody tr th:only-of-type {\n",
       "        vertical-align: middle;\n",
       "    }\n",
       "\n",
       "    .dataframe tbody tr th {\n",
       "        vertical-align: top;\n",
       "    }\n",
       "\n",
       "    .dataframe thead th {\n",
       "        text-align: right;\n",
       "    }\n",
       "</style>\n",
       "<table border=\"1\" class=\"dataframe\">\n",
       "  <thead>\n",
       "    <tr style=\"text-align: right;\">\n",
       "      <th></th>\n",
       "      <th>log_production</th>\n",
       "    </tr>\n",
       "    <tr>\n",
       "      <th>Mine_Status</th>\n",
       "      <th></th>\n",
       "    </tr>\n",
       "  </thead>\n",
       "  <tbody>\n",
       "    <tr>\n",
       "      <th>Active</th>\n",
       "      <td>11.979012</td>\n",
       "    </tr>\n",
       "    <tr>\n",
       "      <th>Active, men working, not producing</th>\n",
       "      <td>11.289035</td>\n",
       "    </tr>\n",
       "    <tr>\n",
       "      <th>Permanently abandoned</th>\n",
       "      <td>10.120947</td>\n",
       "    </tr>\n",
       "    <tr>\n",
       "      <th>Temporarily closed</th>\n",
       "      <td>9.203329</td>\n",
       "    </tr>\n",
       "  </tbody>\n",
       "</table>\n",
       "</div>"
      ],
      "text/plain": [
       "                                    log_production\n",
       "Mine_Status                                       \n",
       "Active                                   11.979012\n",
       "Active, men working, not producing       11.289035\n",
       "Permanently abandoned                    10.120947\n",
       "Temporarily closed                        9.203329"
      ]
     },
     "execution_count": 20,
     "metadata": {},
     "output_type": "execute_result"
    }
   ],
   "source": [
    "df[['Mine_Status','log_production']].groupby('Mine_Status').mean()"
   ]
  },
  {
   "cell_type": "code",
   "execution_count": 21,
   "metadata": {},
   "outputs": [
    {
     "data": {
      "text/html": [
       "<div>\n",
       "<style scoped>\n",
       "    .dataframe tbody tr th:only-of-type {\n",
       "        vertical-align: middle;\n",
       "    }\n",
       "\n",
       "    .dataframe tbody tr th {\n",
       "        vertical-align: top;\n",
       "    }\n",
       "\n",
       "    .dataframe thead th {\n",
       "        text-align: right;\n",
       "    }\n",
       "</style>\n",
       "<table border=\"1\" class=\"dataframe\">\n",
       "  <thead>\n",
       "    <tr style=\"text-align: right;\">\n",
       "      <th></th>\n",
       "      <th>Mine_Name</th>\n",
       "      <th>Mine_State</th>\n",
       "      <th>Mine_County</th>\n",
       "      <th>Mine_Status</th>\n",
       "      <th>Mine_Type</th>\n",
       "      <th>Company_Type</th>\n",
       "      <th>Operation_Type</th>\n",
       "      <th>Operating_Company</th>\n",
       "      <th>Operating_Company_Address</th>\n",
       "      <th>Union_Code</th>\n",
       "      <th>Coal_Supply_Region</th>\n",
       "      <th>Production</th>\n",
       "      <th>Average_Employees</th>\n",
       "      <th>Labor_Hours</th>\n",
       "      <th>log_production</th>\n",
       "    </tr>\n",
       "    <tr>\n",
       "      <th>MSHA ID</th>\n",
       "      <th></th>\n",
       "      <th></th>\n",
       "      <th></th>\n",
       "      <th></th>\n",
       "      <th></th>\n",
       "      <th></th>\n",
       "      <th></th>\n",
       "      <th></th>\n",
       "      <th></th>\n",
       "      <th></th>\n",
       "      <th></th>\n",
       "      <th></th>\n",
       "      <th></th>\n",
       "      <th></th>\n",
       "      <th></th>\n",
       "    </tr>\n",
       "  </thead>\n",
       "  <tbody>\n",
       "    <tr>\n",
       "      <th>103381</th>\n",
       "      <td>Jesse Creek H.W.M.</td>\n",
       "      <td>Alabama</td>\n",
       "      <td>Bibb</td>\n",
       "      <td>Active</td>\n",
       "      <td>Surface</td>\n",
       "      <td>Indepedent Producer Operator</td>\n",
       "      <td>Mine only</td>\n",
       "      <td>Jesse Creek Mining,llc</td>\n",
       "      <td>1615 Kent Dairy Rd, Alabaster, AL 35007</td>\n",
       "      <td>NaN</td>\n",
       "      <td>Appalachia Southern</td>\n",
       "      <td>62598</td>\n",
       "      <td>6</td>\n",
       "      <td>13713</td>\n",
       "      <td>11.044489</td>\n",
       "    </tr>\n",
       "    <tr>\n",
       "      <th>103246</th>\n",
       "      <td>Bear Creek</td>\n",
       "      <td>Alabama</td>\n",
       "      <td>Franklin</td>\n",
       "      <td>Temporarily closed</td>\n",
       "      <td>Surface</td>\n",
       "      <td>Indepedent Producer Operator</td>\n",
       "      <td>Mine only</td>\n",
       "      <td>Birmingham Coal &amp; Coke Co., In</td>\n",
       "      <td>912 Edenton Street, Birmingham, AL 35242</td>\n",
       "      <td>NaN</td>\n",
       "      <td>Appalachia Southern</td>\n",
       "      <td>25481</td>\n",
       "      <td>9</td>\n",
       "      <td>17641</td>\n",
       "      <td>10.145688</td>\n",
       "    </tr>\n",
       "    <tr>\n",
       "      <th>103451</th>\n",
       "      <td>Knight Mine</td>\n",
       "      <td>Alabama</td>\n",
       "      <td>Franklin</td>\n",
       "      <td>Temporarily closed</td>\n",
       "      <td>Surface</td>\n",
       "      <td>Indepedent Producer Operator</td>\n",
       "      <td>Mine only</td>\n",
       "      <td>Birmingham Coal &amp; Coke Co., In</td>\n",
       "      <td>P.O. Box 354, Lynn, AL 35242</td>\n",
       "      <td>NaN</td>\n",
       "      <td>Appalachia Southern</td>\n",
       "      <td>121474</td>\n",
       "      <td>21</td>\n",
       "      <td>51729</td>\n",
       "      <td>11.707456</td>\n",
       "    </tr>\n",
       "    <tr>\n",
       "      <th>102933</th>\n",
       "      <td>Mine No 2</td>\n",
       "      <td>Alabama</td>\n",
       "      <td>Jackson</td>\n",
       "      <td>Temporarily closed</td>\n",
       "      <td>Surface</td>\n",
       "      <td>Indepedent Producer Operator</td>\n",
       "      <td>Mine only</td>\n",
       "      <td>Alabama Carbon, Llc</td>\n",
       "      <td>5957 Windswept Blvd, Wise, VA 24293</td>\n",
       "      <td>NaN</td>\n",
       "      <td>Appalachia Southern</td>\n",
       "      <td>3939</td>\n",
       "      <td>5</td>\n",
       "      <td>5287</td>\n",
       "      <td>8.278682</td>\n",
       "    </tr>\n",
       "    <tr>\n",
       "      <th>100627</th>\n",
       "      <td>Flat Top Mine</td>\n",
       "      <td>Alabama</td>\n",
       "      <td>Jefferson</td>\n",
       "      <td>Active</td>\n",
       "      <td>Surface</td>\n",
       "      <td>Indepedent Producer Operator</td>\n",
       "      <td>Mine only</td>\n",
       "      <td>Cedar Lake Mining, Inc</td>\n",
       "      <td>7802 Highway 78, Cordova, AL 35550</td>\n",
       "      <td>NaN</td>\n",
       "      <td>Appalachia Southern</td>\n",
       "      <td>256521</td>\n",
       "      <td>37</td>\n",
       "      <td>103971</td>\n",
       "      <td>12.454966</td>\n",
       "    </tr>\n",
       "  </tbody>\n",
       "</table>\n",
       "</div>"
      ],
      "text/plain": [
       "                  Mine_Name Mine_State Mine_County         Mine_Status  \\\n",
       "MSHA ID                                                                  \n",
       "103381   Jesse Creek H.W.M.    Alabama        Bibb              Active   \n",
       "103246           Bear Creek    Alabama    Franklin  Temporarily closed   \n",
       "103451          Knight Mine    Alabama    Franklin  Temporarily closed   \n",
       "102933            Mine No 2    Alabama     Jackson  Temporarily closed   \n",
       "100627        Flat Top Mine    Alabama   Jefferson              Active   \n",
       "\n",
       "        Mine_Type                  Company_Type Operation_Type  \\\n",
       "MSHA ID                                                          \n",
       "103381    Surface  Indepedent Producer Operator      Mine only   \n",
       "103246    Surface  Indepedent Producer Operator      Mine only   \n",
       "103451    Surface  Indepedent Producer Operator      Mine only   \n",
       "102933    Surface  Indepedent Producer Operator      Mine only   \n",
       "100627    Surface  Indepedent Producer Operator      Mine only   \n",
       "\n",
       "                      Operating_Company  \\\n",
       "MSHA ID                                   \n",
       "103381           Jesse Creek Mining,llc   \n",
       "103246   Birmingham Coal & Coke Co., In   \n",
       "103451   Birmingham Coal & Coke Co., In   \n",
       "102933              Alabama Carbon, Llc   \n",
       "100627           Cedar Lake Mining, Inc   \n",
       "\n",
       "                        Operating_Company_Address Union_Code  \\\n",
       "MSHA ID                                                        \n",
       "103381    1615 Kent Dairy Rd, Alabaster, AL 35007        NaN   \n",
       "103246   912 Edenton Street, Birmingham, AL 35242        NaN   \n",
       "103451               P.O. Box 354, Lynn, AL 35242        NaN   \n",
       "102933        5957 Windswept Blvd, Wise, VA 24293        NaN   \n",
       "100627         7802 Highway 78, Cordova, AL 35550        NaN   \n",
       "\n",
       "          Coal_Supply_Region  Production  Average_Employees  Labor_Hours  \\\n",
       "MSHA ID                                                                    \n",
       "103381   Appalachia Southern       62598                  6        13713   \n",
       "103246   Appalachia Southern       25481                  9        17641   \n",
       "103451   Appalachia Southern      121474                 21        51729   \n",
       "102933   Appalachia Southern        3939                  5         5287   \n",
       "100627   Appalachia Southern      256521                 37       103971   \n",
       "\n",
       "         log_production  \n",
       "MSHA ID                  \n",
       "103381        11.044489  \n",
       "103246        10.145688  \n",
       "103451        11.707456  \n",
       "102933         8.278682  \n",
       "100627        12.454966  "
      ]
     },
     "execution_count": 21,
     "metadata": {},
     "output_type": "execute_result"
    }
   ],
   "source": [
    "df.head()"
   ]
  },
  {
   "cell_type": "code",
   "execution_count": 22,
   "metadata": {},
   "outputs": [
    {
     "name": "stdout",
     "output_type": "stream",
     "text": [
      "<class 'pandas.core.frame.DataFrame'>\n",
      "Int64Index: 853 entries, 103381 to 1518524\n",
      "Data columns (total 15 columns):\n",
      " #   Column                     Non-Null Count  Dtype  \n",
      "---  ------                     --------------  -----  \n",
      " 0   Mine_Name                  853 non-null    object \n",
      " 1   Mine_State                 853 non-null    object \n",
      " 2   Mine_County                853 non-null    object \n",
      " 3   Mine_Status                853 non-null    object \n",
      " 4   Mine_Type                  853 non-null    object \n",
      " 5   Company_Type               853 non-null    object \n",
      " 6   Operation_Type             853 non-null    object \n",
      " 7   Operating_Company          853 non-null    object \n",
      " 8   Operating_Company_Address  853 non-null    object \n",
      " 9   Union_Code                 54 non-null     object \n",
      " 10  Coal_Supply_Region         852 non-null    object \n",
      " 11  Production                 853 non-null    int64  \n",
      " 12  Average_Employees          853 non-null    int64  \n",
      " 13  Labor_Hours                853 non-null    int64  \n",
      " 14  log_production             853 non-null    float64\n",
      "dtypes: float64(1), int64(3), object(11)\n",
      "memory usage: 106.6+ KB\n"
     ]
    }
   ],
   "source": [
    "df.info()"
   ]
  },
  {
   "cell_type": "code",
   "execution_count": 23,
   "metadata": {},
   "outputs": [
    {
     "data": {
      "text/plain": [
       "Mine_Name                      0\n",
       "Mine_State                     0\n",
       "Mine_County                    0\n",
       "Mine_Status                    0\n",
       "Mine_Type                      0\n",
       "Company_Type                   0\n",
       "Operation_Type                 0\n",
       "Operating_Company              0\n",
       "Operating_Company_Address      0\n",
       "Union_Code                   799\n",
       "Coal_Supply_Region             1\n",
       "Production                     0\n",
       "Average_Employees              0\n",
       "Labor_Hours                    0\n",
       "log_production                 0\n",
       "dtype: int64"
      ]
     },
     "execution_count": 23,
     "metadata": {},
     "output_type": "execute_result"
    }
   ],
   "source": [
    "df.isnull().sum()"
   ]
  },
  {
   "cell_type": "code",
   "execution_count": 24,
   "metadata": {},
   "outputs": [],
   "source": [
    "#1 missing value found in Coal_Supply_Region in order to take care the missing value we need to change the nan with mode of the column\n",
    "\n",
    "#https://towardsdatascience.com/how-to-deal-with-missing-data-in-python-1f74a9112d93"
   ]
  },
  {
   "cell_type": "code",
   "execution_count": 25,
   "metadata": {},
   "outputs": [
    {
     "data": {
      "text/plain": [
       "array(['Appalachia Southern', 'Western', 'Interior', 'Uinta Region',\n",
       "       'Illinois Basin', 'Appalachia Central', 'Appalachia Northern',\n",
       "       'Powder River Basin', nan], dtype=object)"
      ]
     },
     "execution_count": 25,
     "metadata": {},
     "output_type": "execute_result"
    }
   ],
   "source": [
    "df.Coal_Supply_Region.unique()"
   ]
  },
  {
   "cell_type": "code",
   "execution_count": 26,
   "metadata": {},
   "outputs": [
    {
     "data": {
      "text/plain": [
       "Appalachia Central     397\n",
       "Appalachia Northern    275\n",
       "Illinois Basin          66\n",
       "Appalachia Southern     38\n",
       "Interior                27\n",
       "Western                 19\n",
       "Powder River Basin      16\n",
       "Uinta Region            14\n",
       "Name: Coal_Supply_Region, dtype: int64"
      ]
     },
     "execution_count": 26,
     "metadata": {},
     "output_type": "execute_result"
    }
   ],
   "source": [
    "#cardinality check\n",
    "df.Coal_Supply_Region.value_counts()"
   ]
  },
  {
   "cell_type": "code",
   "execution_count": 27,
   "metadata": {},
   "outputs": [
    {
     "name": "stderr",
     "output_type": "stream",
     "text": [
      "<ipython-input-27-eb4a3d4a364a>:2: SettingWithCopyWarning: \n",
      "A value is trying to be set on a copy of a slice from a DataFrame\n",
      "\n",
      "See the caveats in the documentation: https://pandas.pydata.org/pandas-docs/stable/user_guide/indexing.html#returning-a-view-versus-a-copy\n",
      "  df['Coal_Supply_Region'][df['Coal_Supply_Region'].isnull()] = 'Appalachia Central'\n",
      "C:\\Users\\Haryono\\anaconda3\\lib\\site-packages\\pandas\\core\\generic.py:8765: SettingWithCopyWarning: \n",
      "A value is trying to be set on a copy of a slice from a DataFrame\n",
      "\n",
      "See the caveats in the documentation: https://pandas.pydata.org/pandas-docs/stable/user_guide/indexing.html#returning-a-view-versus-a-copy\n",
      "  self._update_inplace(new_data)\n"
     ]
    }
   ],
   "source": [
    "#replace the missing value with 'Appalachia Central'\n",
    "df['Coal_Supply_Region'][df['Coal_Supply_Region'].isnull()] = 'Appalachia Central'"
   ]
  },
  {
   "cell_type": "code",
   "execution_count": 28,
   "metadata": {},
   "outputs": [
    {
     "data": {
      "text/plain": [
       "Mine_Name                      0\n",
       "Mine_State                     0\n",
       "Mine_County                    0\n",
       "Mine_Status                    0\n",
       "Mine_Type                      0\n",
       "Company_Type                   0\n",
       "Operation_Type                 0\n",
       "Operating_Company              0\n",
       "Operating_Company_Address      0\n",
       "Union_Code                   799\n",
       "Coal_Supply_Region             0\n",
       "Production                     0\n",
       "Average_Employees              0\n",
       "Labor_Hours                    0\n",
       "log_production                 0\n",
       "dtype: int64"
      ]
     },
     "execution_count": 28,
     "metadata": {},
     "output_type": "execute_result"
    }
   ],
   "source": [
    "df.isnull().sum()"
   ]
  },
  {
   "cell_type": "code",
   "execution_count": 29,
   "metadata": {},
   "outputs": [],
   "source": [
    "#After pass previous step we can determine type of column, we can exclue union_code from the tabel due to most off the tata does not union_code\n",
    "\n",
    "numercial =['Average_Employees',\n",
    "            'Labor_Hours']\n",
    "\n",
    "categoricals = ['Mine_State',\n",
    "               'Mine_County',\n",
    "               'Mine_Status',\n",
    "               'Mine_Type',\n",
    "               'Company_Type',\n",
    "               'Operation_Type',\n",
    "               'Coal_Supply_Region']\n",
    "\n",
    "target = ['log_production'] \n"
   ]
  },
  {
   "cell_type": "code",
   "execution_count": 30,
   "metadata": {},
   "outputs": [
    {
     "name": "stdout",
     "output_type": "stream",
     "text": [
      "Mine_State:   29\n",
      "Mine_County:   151\n",
      "Mine_Status:   4\n",
      "Mine_Type:   3\n",
      "Company_Type:   3\n",
      "Operation_Type:   2\n",
      "Coal_Supply_Region:   8\n"
     ]
    }
   ],
   "source": [
    "#cardinality chek for categoricals variable\n",
    "for category in categoricals:\n",
    "    print(''+category+':  ',len(df[category].unique()))"
   ]
  },
  {
   "cell_type": "markdown",
   "metadata": {},
   "source": [
    "to reduce cardinality we can crate trashold for the value that apears  group the values "
   ]
  },
  {
   "cell_type": "code",
   "execution_count": 31,
   "metadata": {},
   "outputs": [
    {
     "data": {
      "text/plain": [
       "count     29.000000\n",
       "mean      29.413793\n",
       "std       46.177853\n",
       "min        1.000000\n",
       "25%        3.000000\n",
       "50%       14.000000\n",
       "75%       25.000000\n",
       "max      193.000000\n",
       "Name: Mine_State, dtype: float64"
      ]
     },
     "execution_count": 31,
     "metadata": {},
     "output_type": "execute_result"
    },
    {
     "data": {
      "image/png": "[encoded data removed]",
      "text/plain": [
       "<Figure size 432x288 with 1 Axes>"
      ]
     },
     "metadata": {},
     "output_type": "display_data"
    }
   ],
   "source": [
    "sns.set(color_codes=True)\n",
    "sns.boxplot(df.Mine_State.value_counts())\n",
    "df.Mine_State.value_counts().describe()"
   ]
  },
  {
   "cell_type": "code",
   "execution_count": 32,
   "metadata": {},
   "outputs": [
    {
     "name": "stderr",
     "output_type": "stream",
     "text": [
      "<ipython-input-32-4840e613407b>:6: SettingWithCopyWarning: \n",
      "A value is trying to be set on a copy of a slice from a DataFrame.\n",
      "Try using .loc[row_indexer,col_indexer] = value instead\n",
      "\n",
      "See the caveats in the documentation: https://pandas.pydata.org/pandas-docs/stable/user_guide/indexing.html#returning-a-view-versus-a-copy\n",
      "  df['Mine_State_with_rare'] = df.Mine_State\n",
      "C:\\Users\\Haryono\\anaconda3\\lib\\site-packages\\pandas\\core\\indexing.py:966: SettingWithCopyWarning: \n",
      "A value is trying to be set on a copy of a slice from a DataFrame.\n",
      "Try using .loc[row_indexer,col_indexer] = value instead\n",
      "\n",
      "See the caveats in the documentation: https://pandas.pydata.org/pandas-docs/stable/user_guide/indexing.html#returning-a-view-versus-a-copy\n",
      "  self.obj[item] = s\n"
     ]
    }
   ],
   "source": [
    "#Mine_State \n",
    "name = df.Mine_State.value_counts() <25\n",
    "name_df=pd.DataFrame(name)\n",
    "final=name_df[name_df.Mine_State == True]\n",
    "final.index\n",
    "df['Mine_State_with_rare'] = df.Mine_State\n",
    "for val in final.index:\n",
    "    df.loc[df.Mine_State == val, 'Mine_State_with_rare'] = 'Rare'"
   ]
  },
  {
   "cell_type": "code",
   "execution_count": 33,
   "metadata": {},
   "outputs": [
    {
     "data": {
      "text/plain": [
       "Kentucky (East)              193\n",
       "Rare                         187\n",
       "Pennsylvania (Bituminous)    137\n",
       "West Virginia (Southern)     125\n",
       "Virginia                      65\n",
       "Pennsylvania (Anthracite)     58\n",
       "Alabama                       37\n",
       "West Virginia (Northern)      26\n",
       "Ohio                          25\n",
       "Name: Mine_State_with_rare, dtype: int64"
      ]
     },
     "execution_count": 33,
     "metadata": {},
     "output_type": "execute_result"
    }
   ],
   "source": [
    "df.Mine_State_with_rare.value_counts()"
   ]
  },
  {
   "cell_type": "code",
   "execution_count": 34,
   "metadata": {},
   "outputs": [
    {
     "data": {
      "text/plain": [
       "count    151.000000\n",
       "mean       5.649007\n",
       "std        8.219650\n",
       "min        1.000000\n",
       "25%        1.000000\n",
       "50%        2.000000\n",
       "75%        6.500000\n",
       "max       55.000000\n",
       "Name: Mine_County, dtype: float64"
      ]
     },
     "execution_count": 34,
     "metadata": {},
     "output_type": "execute_result"
    },
    {
     "data": {
      "image/png": "[encoded data removed]",
      "text/plain": [
       "<Figure size 432x288 with 1 Axes>"
      ]
     },
     "metadata": {},
     "output_type": "display_data"
    }
   ],
   "source": [
    "sns.set(color_codes=True)\n",
    "sns.boxplot(df.Mine_County.value_counts())\n",
    "df.Mine_County.value_counts().describe()"
   ]
  },
  {
   "cell_type": "code",
   "execution_count": 35,
   "metadata": {},
   "outputs": [
    {
     "name": "stderr",
     "output_type": "stream",
     "text": [
      "<ipython-input-35-eb381455a19a>:6: SettingWithCopyWarning: \n",
      "A value is trying to be set on a copy of a slice from a DataFrame.\n",
      "Try using .loc[row_indexer,col_indexer] = value instead\n",
      "\n",
      "See the caveats in the documentation: https://pandas.pydata.org/pandas-docs/stable/user_guide/indexing.html#returning-a-view-versus-a-copy\n",
      "  df['Mine_County_with_rare'] = df.Mine_County\n",
      "C:\\Users\\Haryono\\anaconda3\\lib\\site-packages\\pandas\\core\\indexing.py:966: SettingWithCopyWarning: \n",
      "A value is trying to be set on a copy of a slice from a DataFrame.\n",
      "Try using .loc[row_indexer,col_indexer] = value instead\n",
      "\n",
      "See the caveats in the documentation: https://pandas.pydata.org/pandas-docs/stable/user_guide/indexing.html#returning-a-view-versus-a-copy\n",
      "  self.obj[item] = s\n"
     ]
    }
   ],
   "source": [
    "#Mine_County \n",
    "name = df.Mine_County.value_counts() <6.5\n",
    "name_df=pd.DataFrame(name)\n",
    "final=name_df[name_df.Mine_County == True]\n",
    "final.index\n",
    "df['Mine_County_with_rare'] = df.Mine_County\n",
    "for val in final.index:\n",
    "    df.loc[df.Mine_County == val, 'Mine_County_with_rare'] = 'Rare'"
   ]
  },
  {
   "cell_type": "code",
   "execution_count": 36,
   "metadata": {},
   "outputs": [
    {
     "data": {
      "text/plain": [
       "Rare              230\n",
       "Pike               55\n",
       "Schuylkill         40\n",
       "Clearfield         33\n",
       "Mcdowell           31\n",
       "Buchanan           28\n",
       "Indiana            25\n",
       "Perry              25\n",
       "Harlan             22\n",
       "Logan              22\n",
       "Jefferson          22\n",
       "Somerset           20\n",
       "Floyd              19\n",
       "Boone              18\n",
       "Wise               16\n",
       "Letcher            16\n",
       "Northumberland     15\n",
       "Knox               14\n",
       "Walker             14\n",
       "Dickenson          13\n",
       "Raleigh            13\n",
       "Kanawha            12\n",
       "Fayette            12\n",
       "Bell               12\n",
       "Campbell           12\n",
       "Whitley            12\n",
       "Allegany           10\n",
       "Garrett             8\n",
       "Harrison            8\n",
       "Greene              8\n",
       "Armstrong           8\n",
       "Cambria             8\n",
       "Ohio                8\n",
       "Claiborne           8\n",
       "Luzerne             8\n",
       "Greenbrier          7\n",
       "Westmoreland        7\n",
       "Webster             7\n",
       "Knott               7\n",
       "Name: Mine_County_with_rare, dtype: int64"
      ]
     },
     "execution_count": 36,
     "metadata": {},
     "output_type": "execute_result"
    }
   ],
   "source": [
    "df.Mine_County_with_rare.value_counts()"
   ]
  },
  {
   "cell_type": "code",
   "execution_count": 37,
   "metadata": {},
   "outputs": [],
   "source": [
    "del(df['Mine_Name'])\n",
    "del(df['Union_Code'])\n",
    "del(df['Operating_Company'])\n",
    "del(df['Operating_Company_Address'])\n",
    "del(df['Production'])"
   ]
  },
  {
   "cell_type": "code",
   "execution_count": 38,
   "metadata": {},
   "outputs": [],
   "source": [
    "del(df['Mine_County'])\n",
    "del(df['Mine_State'])"
   ]
  },
  {
   "cell_type": "code",
   "execution_count": 39,
   "metadata": {},
   "outputs": [],
   "source": [
    "numercial =['Average_Employees',\n",
    "            'Labor_Hours']\n",
    "\n",
    "categoricals = ['Mine_State_with_rare',\n",
    "               'Mine_County_with_rare',\n",
    "               'Mine_Status',\n",
    "               'Mine_Type',\n",
    "               'Company_Type',\n",
    "               'Operation_Type',\n",
    "               'Coal_Supply_Region']\n",
    "\n",
    "target = ['log_production'] "
   ]
  },
  {
   "cell_type": "code",
   "execution_count": 40,
   "metadata": {},
   "outputs": [
    {
     "name": "stdout",
     "output_type": "stream",
     "text": [
      "<class 'pandas.core.frame.DataFrame'>\n",
      "Int64Index: 853 entries, 103381 to 1518524\n",
      "Data columns (total 10 columns):\n",
      " #   Column                 Non-Null Count  Dtype  \n",
      "---  ------                 --------------  -----  \n",
      " 0   Mine_Status            853 non-null    object \n",
      " 1   Mine_Type              853 non-null    object \n",
      " 2   Company_Type           853 non-null    object \n",
      " 3   Operation_Type         853 non-null    object \n",
      " 4   Coal_Supply_Region     853 non-null    object \n",
      " 5   Average_Employees      853 non-null    int64  \n",
      " 6   Labor_Hours            853 non-null    int64  \n",
      " 7   log_production         853 non-null    float64\n",
      " 8   Mine_State_with_rare   853 non-null    object \n",
      " 9   Mine_County_with_rare  853 non-null    object \n",
      "dtypes: float64(1), int64(2), object(7)\n",
      "memory usage: 73.3+ KB\n"
     ]
    }
   ],
   "source": [
    "df.info()"
   ]
  },
  {
   "cell_type": "code",
   "execution_count": 41,
   "metadata": {},
   "outputs": [
    {
     "data": {
      "text/plain": [
       "(853, 10)"
      ]
     },
     "execution_count": 41,
     "metadata": {},
     "output_type": "execute_result"
    }
   ],
   "source": [
    "df_copy = df.copy()\n",
    "df.shape"
   ]
  },
  {
   "cell_type": "code",
   "execution_count": 42,
   "metadata": {},
   "outputs": [],
   "source": [
    "df = df_copy.copy()"
   ]
  },
  {
   "cell_type": "code",
   "execution_count": 44,
   "metadata": {},
   "outputs": [
    {
     "name": "stdout",
     "output_type": "stream",
     "text": [
      "Mine_State_with_rare\n",
      "Mine_County_with_rare\n",
      "Mine_Status\n",
      "Mine_Type\n",
      "Company_Type\n",
      "Operation_Type\n",
      "Coal_Supply_Region\n"
     ]
    }
   ],
   "source": [
    "#encoding cetegorical varables into dummy numeric variables\n",
    "for categorical in categoricals:\n",
    "    print(categorical)\n",
    "    temp_df = pd.get_dummies(df[categorical])\n",
    "    df = pd.concat([df, temp_df],axis =1)\n",
    "    \n",
    "\n",
    "#It is also can be done using code below if we change de format form data frame info array object    \n",
    "#from sklearn.compose import ColumnTransformer\n",
    "#from sklearn.preprocessing import OneHotEncoder\n",
    "#ct = ColumnTransformer(transformers=[('encoder', OneHotEncoder(), [0])], remainder='passthrough')\n",
    "#X = np.array(ct.fit_transform(X))\n",
    "#ct = ColumnTransformer(transformers=[('encoder', OneHotEncoder(), [4])], remainder='passthrough')\n",
    "#X = np.array(ct.fit_transform(X))\n",
    "#ct = ColumnTransformer(transformers=[('encoder', OneHotEncoder(), [7])], remainder='passthrough')\n",
    "#X = np.array(ct.fit_transform(X))\n",
    "#ct = ColumnTransformer(transformers=[('encoder', OneHotEncoder(), [10])], remainder='passthrough')\n",
    "#X = np.array(ct.fit_transform(X))\n",
    "#ct = ColumnTransformer(transformers=[('encoder', OneHotEncoder(), [12])], remainder='passthrough')\n",
    "#X = np.array(ct.fit_transform(X))\n",
    "#ct = ColumnTransformer(transformers=[('encoder', OneHotEncoder(), [20])], remainder='passthrough')\n",
    "#X = np.array(ct.fit_transform(X))\n",
    "#ct = ColumnTransformer(transformers=[('encoder', OneHotEncoder(), [29])], remainder='passthrough')\n",
    "#X = np.array(ct.fit_transform(X))"
   ]
  },
  {
   "cell_type": "code",
   "execution_count": 45,
   "metadata": {},
   "outputs": [
    {
     "name": "stdout",
     "output_type": "stream",
     "text": [
      "<class 'pandas.core.frame.DataFrame'>\n",
      "Int64Index: 853 entries, 103381 to 1518524\n",
      "Data columns (total 78 columns):\n",
      " #   Column                              Non-Null Count  Dtype  \n",
      "---  ------                              --------------  -----  \n",
      " 0   Mine_Status                         853 non-null    object \n",
      " 1   Mine_Type                           853 non-null    object \n",
      " 2   Company_Type                        853 non-null    object \n",
      " 3   Operation_Type                      853 non-null    object \n",
      " 4   Coal_Supply_Region                  853 non-null    object \n",
      " 5   Average_Employees                   853 non-null    int64  \n",
      " 6   Labor_Hours                         853 non-null    int64  \n",
      " 7   log_production                      853 non-null    float64\n",
      " 8   Mine_State_with_rare                853 non-null    object \n",
      " 9   Mine_County_with_rare               853 non-null    object \n",
      " 10  Alabama                             853 non-null    uint8  \n",
      " 11  Kentucky (East)                     853 non-null    uint8  \n",
      " 12  Ohio                                853 non-null    uint8  \n",
      " 13  Pennsylvania (Anthracite)           853 non-null    uint8  \n",
      " 14  Pennsylvania (Bituminous)           853 non-null    uint8  \n",
      " 15  Rare                                853 non-null    uint8  \n",
      " 16  Virginia                            853 non-null    uint8  \n",
      " 17  West Virginia (Northern)            853 non-null    uint8  \n",
      " 18  West Virginia (Southern)            853 non-null    uint8  \n",
      " 19  Allegany                            853 non-null    uint8  \n",
      " 20  Armstrong                           853 non-null    uint8  \n",
      " 21  Bell                                853 non-null    uint8  \n",
      " 22  Boone                               853 non-null    uint8  \n",
      " 23  Buchanan                            853 non-null    uint8  \n",
      " 24  Cambria                             853 non-null    uint8  \n",
      " 25  Campbell                            853 non-null    uint8  \n",
      " 26  Claiborne                           853 non-null    uint8  \n",
      " 27  Clearfield                          853 non-null    uint8  \n",
      " 28  Dickenson                           853 non-null    uint8  \n",
      " 29  Fayette                             853 non-null    uint8  \n",
      " 30  Floyd                               853 non-null    uint8  \n",
      " 31  Garrett                             853 non-null    uint8  \n",
      " 32  Greenbrier                          853 non-null    uint8  \n",
      " 33  Greene                              853 non-null    uint8  \n",
      " 34  Harlan                              853 non-null    uint8  \n",
      " 35  Harrison                            853 non-null    uint8  \n",
      " 36  Indiana                             853 non-null    uint8  \n",
      " 37  Jefferson                           853 non-null    uint8  \n",
      " 38  Kanawha                             853 non-null    uint8  \n",
      " 39  Knott                               853 non-null    uint8  \n",
      " 40  Knox                                853 non-null    uint8  \n",
      " 41  Letcher                             853 non-null    uint8  \n",
      " 42  Logan                               853 non-null    uint8  \n",
      " 43  Luzerne                             853 non-null    uint8  \n",
      " 44  Mcdowell                            853 non-null    uint8  \n",
      " 45  Northumberland                      853 non-null    uint8  \n",
      " 46  Ohio                                853 non-null    uint8  \n",
      " 47  Perry                               853 non-null    uint8  \n",
      " 48  Pike                                853 non-null    uint8  \n",
      " 49  Raleigh                             853 non-null    uint8  \n",
      " 50  Rare                                853 non-null    uint8  \n",
      " 51  Schuylkill                          853 non-null    uint8  \n",
      " 52  Somerset                            853 non-null    uint8  \n",
      " 53  Walker                              853 non-null    uint8  \n",
      " 54  Webster                             853 non-null    uint8  \n",
      " 55  Westmoreland                        853 non-null    uint8  \n",
      " 56  Whitley                             853 non-null    uint8  \n",
      " 57  Wise                                853 non-null    uint8  \n",
      " 58  Active                              853 non-null    uint8  \n",
      " 59  Active, men working, not producing  853 non-null    uint8  \n",
      " 60  Permanently abandoned               853 non-null    uint8  \n",
      " 61  Temporarily closed                  853 non-null    uint8  \n",
      " 62  Refuse                              853 non-null    uint8  \n",
      " 63  Surface                             853 non-null    uint8  \n",
      " 64  Underground                         853 non-null    uint8  \n",
      " 65  Contractor                          853 non-null    uint8  \n",
      " 66  Indepedent Producer Operator        853 non-null    uint8  \n",
      " 67  Operating Subsidiary                853 non-null    uint8  \n",
      " 68  Mine and Preparation Plant          853 non-null    uint8  \n",
      " 69  Mine only                           853 non-null    uint8  \n",
      " 70  Appalachia Central                  853 non-null    uint8  \n",
      " 71  Appalachia Northern                 853 non-null    uint8  \n",
      " 72  Appalachia Southern                 853 non-null    uint8  \n",
      " 73  Illinois Basin                      853 non-null    uint8  \n",
      " 74  Interior                            853 non-null    uint8  \n",
      " 75  Powder River Basin                  853 non-null    uint8  \n",
      " 76  Uinta Region                        853 non-null    uint8  \n",
      " 77  Western                             853 non-null    uint8  \n",
      "dtypes: float64(1), int64(2), object(7), uint8(68)\n",
      "memory usage: 129.9+ KB\n"
     ]
    }
   ],
   "source": [
    "df.info()"
   ]
  },
  {
   "cell_type": "code",
   "execution_count": 46,
   "metadata": {},
   "outputs": [],
   "source": [
    "for col in categoricals:\n",
    "    del(df[col])"
   ]
  },
  {
   "cell_type": "code",
   "execution_count": 47,
   "metadata": {},
   "outputs": [
    {
     "data": {
      "text/plain": [
       "(853, 71)"
      ]
     },
     "execution_count": 47,
     "metadata": {},
     "output_type": "execute_result"
    }
   ],
   "source": [
    "df.shape"
   ]
  },
  {
   "cell_type": "code",
   "execution_count": 48,
   "metadata": {},
   "outputs": [
    {
     "name": "stdout",
     "output_type": "stream",
     "text": [
      "<class 'pandas.core.frame.DataFrame'>\n",
      "Int64Index: 853 entries, 103381 to 1518524\n",
      "Data columns (total 71 columns):\n",
      " #   Column                              Non-Null Count  Dtype  \n",
      "---  ------                              --------------  -----  \n",
      " 0   Average_Employees                   853 non-null    int64  \n",
      " 1   Labor_Hours                         853 non-null    int64  \n",
      " 2   log_production                      853 non-null    float64\n",
      " 3   Alabama                             853 non-null    uint8  \n",
      " 4   Kentucky (East)                     853 non-null    uint8  \n",
      " 5   Ohio                                853 non-null    uint8  \n",
      " 6   Pennsylvania (Anthracite)           853 non-null    uint8  \n",
      " 7   Pennsylvania (Bituminous)           853 non-null    uint8  \n",
      " 8   Rare                                853 non-null    uint8  \n",
      " 9   Virginia                            853 non-null    uint8  \n",
      " 10  West Virginia (Northern)            853 non-null    uint8  \n",
      " 11  West Virginia (Southern)            853 non-null    uint8  \n",
      " 12  Allegany                            853 non-null    uint8  \n",
      " 13  Armstrong                           853 non-null    uint8  \n",
      " 14  Bell                                853 non-null    uint8  \n",
      " 15  Boone                               853 non-null    uint8  \n",
      " 16  Buchanan                            853 non-null    uint8  \n",
      " 17  Cambria                             853 non-null    uint8  \n",
      " 18  Campbell                            853 non-null    uint8  \n",
      " 19  Claiborne                           853 non-null    uint8  \n",
      " 20  Clearfield                          853 non-null    uint8  \n",
      " 21  Dickenson                           853 non-null    uint8  \n",
      " 22  Fayette                             853 non-null    uint8  \n",
      " 23  Floyd                               853 non-null    uint8  \n",
      " 24  Garrett                             853 non-null    uint8  \n",
      " 25  Greenbrier                          853 non-null    uint8  \n",
      " 26  Greene                              853 non-null    uint8  \n",
      " 27  Harlan                              853 non-null    uint8  \n",
      " 28  Harrison                            853 non-null    uint8  \n",
      " 29  Indiana                             853 non-null    uint8  \n",
      " 30  Jefferson                           853 non-null    uint8  \n",
      " 31  Kanawha                             853 non-null    uint8  \n",
      " 32  Knott                               853 non-null    uint8  \n",
      " 33  Knox                                853 non-null    uint8  \n",
      " 34  Letcher                             853 non-null    uint8  \n",
      " 35  Logan                               853 non-null    uint8  \n",
      " 36  Luzerne                             853 non-null    uint8  \n",
      " 37  Mcdowell                            853 non-null    uint8  \n",
      " 38  Northumberland                      853 non-null    uint8  \n",
      " 39  Ohio                                853 non-null    uint8  \n",
      " 40  Perry                               853 non-null    uint8  \n",
      " 41  Pike                                853 non-null    uint8  \n",
      " 42  Raleigh                             853 non-null    uint8  \n",
      " 43  Rare                                853 non-null    uint8  \n",
      " 44  Schuylkill                          853 non-null    uint8  \n",
      " 45  Somerset                            853 non-null    uint8  \n",
      " 46  Walker                              853 non-null    uint8  \n",
      " 47  Webster                             853 non-null    uint8  \n",
      " 48  Westmoreland                        853 non-null    uint8  \n",
      " 49  Whitley                             853 non-null    uint8  \n",
      " 50  Wise                                853 non-null    uint8  \n",
      " 51  Active                              853 non-null    uint8  \n",
      " 52  Active, men working, not producing  853 non-null    uint8  \n",
      " 53  Permanently abandoned               853 non-null    uint8  \n",
      " 54  Temporarily closed                  853 non-null    uint8  \n",
      " 55  Refuse                              853 non-null    uint8  \n",
      " 56  Surface                             853 non-null    uint8  \n",
      " 57  Underground                         853 non-null    uint8  \n",
      " 58  Contractor                          853 non-null    uint8  \n",
      " 59  Indepedent Producer Operator        853 non-null    uint8  \n",
      " 60  Operating Subsidiary                853 non-null    uint8  \n",
      " 61  Mine and Preparation Plant          853 non-null    uint8  \n",
      " 62  Mine only                           853 non-null    uint8  \n",
      " 63  Appalachia Central                  853 non-null    uint8  \n",
      " 64  Appalachia Northern                 853 non-null    uint8  \n",
      " 65  Appalachia Southern                 853 non-null    uint8  \n",
      " 66  Illinois Basin                      853 non-null    uint8  \n",
      " 67  Interior                            853 non-null    uint8  \n",
      " 68  Powder River Basin                  853 non-null    uint8  \n",
      " 69  Uinta Region                        853 non-null    uint8  \n",
      " 70  Western                             853 non-null    uint8  \n",
      "dtypes: float64(1), int64(2), uint8(68)\n",
      "memory usage: 83.3 KB\n"
     ]
    }
   ],
   "source": [
    "df.info()"
   ]
  },
  {
   "cell_type": "markdown",
   "metadata": {},
   "source": [
    "## Model Creation"
   ]
  },
  {
   "cell_type": "code",
   "execution_count": 49,
   "metadata": {},
   "outputs": [
    {
     "name": "stdout",
     "output_type": "stream",
     "text": [
      "X: (853, 71)\n",
      "y: (853,)\n"
     ]
    }
   ],
   "source": [
    "X= df\n",
    "y= df['log_production']\n",
    "\n",
    "print('X:',X.shape)\n",
    "print('y:',y.shape)"
   ]
  },
  {
   "cell_type": "code",
   "execution_count": 62,
   "metadata": {},
   "outputs": [],
   "source": [
    "from math import sqrt\n",
    "from sklearn.model_selection import train_test_split\n",
    "from sklearn.model_selection import (GridSearchCV, RandomizedSearchCV)\n",
    "from sklearn.metrics import (mean_squared_error, mean_absolute_error)\n",
    "from sklearn.ensemble import RandomForestRegressor\n",
    "from sklearn.ensemble import GradientBoostingRegressor \n",
    "\n",
    "def FitModel(X,Y,algo_name,algorithm,gridSearchParams,cv):\n",
    "    np.random.seed(10)\n",
    "    X_train, X_test, y_train, y_test = train_test_split(X, y, test_size = 0.2, random_state = 0)\n",
    "        \n",
    "    grid = GridSearchCV(\n",
    "        estimator=algorithm,\n",
    "        param_grid=gridSearchParams,\n",
    "        cv=cv,  verbose=1, n_jobs=-1)\n",
    "    \n",
    "    \n",
    "    grid_result = grid.fit(X_train, y_train)\n",
    "    best_params = grid_result.best_params_\n",
    "    pred = grid_result.predict(X_test)\n",
    "    \n",
    "    plt.figure(figsize=(20,20))\n",
    "    sns.regplot(np.exp(y_test),np.exp(pred))\n",
    "    plt.tight_layout()\n",
    "    \n",
    "    #print(y_test_L,pred)\n",
    "    df = pd.DataFrame(list(zip(np.exp(y_test),np.exp(pred))), columns =['Original Values','Prediction']) \n",
    "    print(df)\n",
    "    \n",
    "\n",
    "    print('Best Params :',best_params)\n",
    "    print('Root Mean squared error {}'.format(sqrt(mean_squared_error(np.exp(y_test), np.exp(pred)))))"
   ]
  },
  {
   "cell_type": "markdown",
   "metadata": {},
   "source": [
    "## Random Forest "
   ]
  },
  {
   "cell_type": "code",
   "execution_count": 63,
   "metadata": {},
   "outputs": [
    {
     "name": "stdout",
     "output_type": "stream",
     "text": [
      "Fitting 5 folds for each of 48 candidates, totalling 240 fits\n"
     ]
    },
    {
     "name": "stderr",
     "output_type": "stream",
     "text": [
      "[Parallel(n_jobs=-1)]: Using backend LokyBackend with 8 concurrent workers.\n",
      "[Parallel(n_jobs=-1)]: Done  45 tasks      | elapsed:    8.3s\n",
      "[Parallel(n_jobs=-1)]: Done 200 tasks      | elapsed:  1.1min\n",
      "[Parallel(n_jobs=-1)]: Done 240 out of 240 | elapsed:  1.6min finished\n"
     ]
    },
    {
     "name": "stdout",
     "output_type": "stream",
     "text": [
      "     Original Values  Prediction\n",
      "0            2168.00     2165.46\n",
      "1         6419645.00  6338373.78\n",
      "2           24956.00    24954.38\n",
      "3          349570.00   351501.98\n",
      "4          169264.00   169895.91\n",
      "..               ...         ...\n",
      "166          4204.00     4346.35\n",
      "167        319054.00   315261.90\n",
      "168        840641.00   846655.09\n",
      "169      10587790.00 10133655.45\n",
      "170       4140386.00  4129036.24\n",
      "\n",
      "[171 rows x 2 columns]\n",
      "Best Params : {'max_depth': 7, 'n_estimators': 300}\n",
      "Root Mean squared error 158437.9664727019\n"
     ]
    },
    {
     "data": {
      "image/png": "[encoded data removed]",
      "text/plain": [
       "<Figure size 1440x1440 with 1 Axes>"
      ]
     },
     "metadata": {},
     "output_type": "display_data"
    }
   ],
   "source": [
    "param ={\n",
    "            'n_estimators': [50,100,150, 300,500, 700,1000, 2000],\n",
    "            'max_depth':[2,3,4,5,6,7]\n",
    "           \n",
    "        }\n",
    "FitModel(X,y,'Random Forest',RandomForestRegressor(),param,cv=5)"
   ]
  },
  {
   "cell_type": "markdown",
   "metadata": {},
   "source": [
    "## GradientBoostingRegressor"
   ]
  },
  {
   "cell_type": "code",
   "execution_count": 58,
   "metadata": {},
   "outputs": [
    {
     "name": "stdout",
     "output_type": "stream",
     "text": [
      "Fitting 5 folds for each of 4 candidates, totalling 20 fits\n"
     ]
    },
    {
     "name": "stderr",
     "output_type": "stream",
     "text": [
      "[Parallel(n_jobs=-1)]: Using backend LokyBackend with 8 concurrent workers.\n",
      "[Parallel(n_jobs=-1)]: Done  20 out of  20 | elapsed:    0.7s finished\n"
     ]
    },
    {
     "name": "stdout",
     "output_type": "stream",
     "text": [
      "     Original Values  Prediction\n",
      "0            2168.00     2177.42\n",
      "1         6419645.00  6404016.87\n",
      "2           24956.00    25149.30\n",
      "3          349570.00   347327.88\n",
      "4          169264.00   173274.63\n",
      "..               ...         ...\n",
      "166          4204.00     4286.64\n",
      "167        319054.00   317974.52\n",
      "168        840641.00   861091.20\n",
      "169      10587790.00 10125838.46\n",
      "170       4140386.00  4034642.56\n",
      "\n",
      "[171 rows x 2 columns]\n",
      "Best Params : {'max_depth': 4}\n",
      "Root Mean squared error 108473.13154954721\n"
     ]
    },
    {
     "data": {
      "image/png": "[encoded data removed]",
      "text/plain": [
       "<Figure size 1440x1008 with 1 Axes>"
      ]
     },
     "metadata": {},
     "output_type": "display_data"
    }
   ],
   "source": [
    "param ={\n",
    "            'max_depth':[2,3,4,5]\n",
    "        }\n",
    "FitModel(X,y,'GradientBoostingRegressor',GradientBoostingRegressor(),param,cv=5)"
   ]
  },
  {
   "cell_type": "code",
   "execution_count": null,
   "metadata": {},
   "outputs": [],
   "source": []
  }
 ],
 "metadata": {
  "kernelspec": {
   "display_name": "Python 3",
   "language": "python",
   "name": "python3"
  },
  "language_info": {
   "codemirror_mode": {
    "name": "ipython",
    "version": 3
   },
   "file_extension": ".py",
   "mimetype": "text/x-python",
   "name": "python",
   "nbconvert_exporter": "python",
   "pygments_lexer": "ipython3",
   "version": "3.8.3"
  }
 },
 "nbformat": 4,
 "nbformat_minor": 4
}
